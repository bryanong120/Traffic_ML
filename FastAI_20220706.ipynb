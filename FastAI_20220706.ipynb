{
 "cells": [
  {
   "cell_type": "code",
   "execution_count": 39,
   "metadata": {
    "id": "RIykaclL1-JN"
   },
   "outputs": [],
   "source": [
    "# first neural network with keras tutorial\n",
    "from numpy import loadtxt\n",
    "from tensorflow.keras.models import Sequential\n",
    "from tensorflow.keras.layers import Dense\n",
    "from tensorflow.keras.layers import LSTM\n",
    "from tensorflow.keras import layers\n",
    "import numpy as np\n",
    "import matplotlib.pyplot as plt\n",
    "import pandas as pd\n",
    "from keras.wrappers.scikit_learn import KerasRegressor\n",
    "from sklearn.preprocessing import StandardScaler\n",
    "from sklearn.preprocessing import MinMaxScaler\n",
    "from sklearn.model_selection import KFold\n",
    "from sklearn.model_selection import cross_val_score\n",
    "\n",
    "\n",
    "from fastai import *\n",
    "from fastai.vision.all import *\n",
    "from fastai.tabular.all import *\n"
   ]
  },
  {
   "cell_type": "code",
   "execution_count": 43,
   "metadata": {
    "colab": {
     "base_uri": "https://localhost:8080/"
    },
    "id": "YSXAt0k22Ohz",
    "outputId": "8b8b0f6e-0f36-4344-ed4a-73b6f13dea8c"
   },
   "outputs": [],
   "source": [
    "datasets = pd.read_csv('USA_accident_dataset.csv')\n",
    "# X = datasets.iloc[:, [2,3]].values\n",
    "# Y = datasets.iloc[:, 4].values\n",
    "\n",
    "datasets = datasets.drop(columns=['Start_Time', 'End_Time', 'Timezone', 'Weather_Timestamp',\"Severity\"])\n",
    "\n",
    "\n",
    "\n"
   ]
  },
  {
   "cell_type": "code",
   "execution_count": 44,
   "metadata": {
    "colab": {
     "base_uri": "https://localhost:8080/",
     "height": 488
    },
    "id": "kPG8GqeVRWeM",
    "outputId": "85440351-c357-4c76-a783-28587a69af95"
   },
   "outputs": [
    {
     "name": "stdout",
     "output_type": "stream",
     "text": [
      "<class 'pandas.core.frame.DataFrame'>\n",
      "RangeIndex: 2207326 entries, 0 to 2207325\n",
      "Data columns (total 28 columns):\n",
      " #   Column              Dtype  \n",
      "---  ------              -----  \n",
      " 0   Distance(mi)        float32\n",
      " 1   City                int32  \n",
      " 2   County              int32  \n",
      " 3   State               int32  \n",
      " 4   Temperature(F)      float32\n",
      " 5   Wind_Chill(F)       float32\n",
      " 6   Humidity(%)         float32\n",
      " 7   Pressure(in)        float32\n",
      " 8   Visibility(mi)      float32\n",
      " 9   Wind_Direction      int32  \n",
      " 10  Wind_Speed(mph)     float32\n",
      " 11  Precipitation(in)   float32\n",
      " 12  Weather_Condition   int32  \n",
      " 13  Amenity             bool   \n",
      " 14  Bump                bool   \n",
      " 15  Crossing            bool   \n",
      " 16  Give_Way            bool   \n",
      " 17  Junction            bool   \n",
      " 18  No_Exit             bool   \n",
      " 19  Railway             bool   \n",
      " 20  Roundabout          bool   \n",
      " 21  Station             bool   \n",
      " 22  Stop                bool   \n",
      " 23  Traffic_Calming     bool   \n",
      " 24  Traffic_Signal      bool   \n",
      " 25  Turning_Loop        bool   \n",
      " 26  Sunrise_Sunset      int32  \n",
      " 27  Time_Duration(min)  float32\n",
      "dtypes: bool(13), float32(9), int32(6)\n",
      "memory usage: 153.7 MB\n"
     ]
    }
   ],
   "source": [
    "datasets[datasets.select_dtypes(np.float64).columns] = datasets.select_dtypes(np.float64).astype(np.float32)\n",
    "datasets[datasets.select_dtypes(np.int64).columns] = datasets.select_dtypes(np.int64).astype(np.int32)\n",
    "datasets.info()\n"
   ]
  },
  {
   "cell_type": "code",
   "execution_count": 45,
   "metadata": {},
   "outputs": [],
   "source": [
    "from sklearn.model_selection import train_test_split\n",
    "X_train, X_test = train_test_split(datasets, test_size=0.3, random_state=42)"
   ]
  },
  {
   "cell_type": "code",
   "execution_count": 46,
   "metadata": {},
   "outputs": [],
   "source": [
    "col_counts = dict(datasets.count(axis=0))\n",
    "col_types = {c: d for c, d in dict(datasets.dtypes).items() if col_counts[c] > 1000 and (c != 'Distance(mi)' or c != 'Severity')}\n",
    "\n",
    "_is_num = lambda x: x in (int, float)\n",
    "\n",
    "cols_numerical = sorted([col for col, dtp in col_types.items() if _is_num(dtp)])\n",
    "\n",
    "cols_string = sorted([col for col, dtp in col_types.items() if not _is_num(dtp)])"
   ]
  },
  {
   "cell_type": "code",
   "execution_count": 47,
   "metadata": {},
   "outputs": [
    {
     "name": "stdout",
     "output_type": "stream",
     "text": [
      "NUMERICAL: ['City', 'County', 'State', 'Sunrise_Sunset', 'Weather_Condition', 'Wind_Direction']\n",
      "CATEGORICAL: ['Amenity', 'Bump', 'Crossing', 'Distance(mi)', 'Give_Way', 'Humidity(%)', 'Junction', 'No_Exit', 'Precipitation(in)', 'Pressure(in)', 'Railway', 'Roundabout', 'Station', 'Stop', 'Temperature(F)', 'Time_Duration(min)', 'Traffic_Calming', 'Traffic_Signal', 'Turning_Loop', 'Visibility(mi)', 'Wind_Chill(F)', 'Wind_Speed(mph)']\n"
     ]
    }
   ],
   "source": [
    "print(f\"NUMERICAL: {cols_numerical}\")\n",
    "print(f\"CATEGORICAL: {cols_string}\")"
   ]
  },
  {
   "cell_type": "code",
   "execution_count": 48,
   "metadata": {},
   "outputs": [
    {
     "name": "stderr",
     "output_type": "stream",
     "text": [
      "c:\\users\\ivan\\appdata\\local\\programs\\python\\python39\\lib\\site-packages\\fastai\\tabular\\core.py:153: UserWarning: Using inplace with splits will trigger a pandas error. Set `pd.options.mode.chained_assignment=None` to avoid it.\n",
      "  warn(\"Using inplace with splits will trigger a pandas error. Set `pd.options.mode.chained_assignment=None` to avoid it.\")\n"
     ]
    },
    {
     "ename": "ValueError",
     "evalue": "invalid literal for int() with base 10: 'Distance(mi)'",
     "output_type": "error",
     "traceback": [
      "\u001b[1;31m---------------------------------------------------------------------------\u001b[0m",
      "\u001b[1;31mValueError\u001b[0m                                Traceback (most recent call last)",
      "Input \u001b[1;32mIn [48]\u001b[0m, in \u001b[0;36m<cell line: 5>\u001b[1;34m()\u001b[0m\n\u001b[0;32m      3\u001b[0m cont,cat \u001b[38;5;241m=\u001b[39m cont_cat_split(datasets, \u001b[38;5;241m1\u001b[39m, dep_var\u001b[38;5;241m=\u001b[39m\u001b[38;5;124m\"\u001b[39m\u001b[38;5;124mDistance(mi)\u001b[39m\u001b[38;5;124m\"\u001b[39m)\n\u001b[0;32m      4\u001b[0m splits \u001b[38;5;241m=\u001b[39m (\u001b[38;5;28mlist\u001b[39m(X_train),\u001b[38;5;28mlist\u001b[39m(X_test))\n\u001b[1;32m----> 5\u001b[0m to \u001b[38;5;241m=\u001b[39m \u001b[43mTabularPandas\u001b[49m\u001b[43m(\u001b[49m\u001b[43mX_test\u001b[49m\u001b[43m,\u001b[49m\u001b[43m \u001b[49m\u001b[43mprocs\u001b[49m\u001b[43m,\u001b[49m\u001b[43m \u001b[49m\u001b[43mcols_string\u001b[49m\u001b[43m,\u001b[49m\u001b[43m \u001b[49m\u001b[43mcols_numerical\u001b[49m\u001b[43m,\u001b[49m\u001b[43m \u001b[49m\u001b[38;5;124;43m\"\u001b[39;49m\u001b[38;5;124;43mDistance(mi)\u001b[39;49m\u001b[38;5;124;43m\"\u001b[39;49m\u001b[43m,\u001b[49m\u001b[43m \u001b[49m\u001b[43my_block\u001b[49m\u001b[38;5;241;43m=\u001b[39;49m\u001b[43mRegressionBlock\u001b[49m\u001b[43m(\u001b[49m\u001b[43m)\u001b[49m\u001b[43m,\u001b[49m\n\u001b[0;32m      6\u001b[0m \u001b[43m                   \u001b[49m\u001b[43msplits\u001b[49m\u001b[38;5;241;43m=\u001b[39;49m\u001b[43msplits\u001b[49m\u001b[43m,\u001b[49m\u001b[43m \u001b[49m\u001b[43minplace\u001b[49m\u001b[38;5;241;43m=\u001b[39;49m\u001b[38;5;28;43;01mTrue\u001b[39;49;00m\u001b[43m,\u001b[49m\u001b[43m \u001b[49m\u001b[43mreduce_memory\u001b[49m\u001b[38;5;241;43m=\u001b[39;49m\u001b[38;5;28;43;01mTrue\u001b[39;49;00m\u001b[43m)\u001b[49m\n",
      "File \u001b[1;32mc:\\users\\ivan\\appdata\\local\\programs\\python\\python39\\lib\\site-packages\\fastai\\tabular\\core.py:156\u001b[0m, in \u001b[0;36mTabular.__init__\u001b[1;34m(self, df, procs, cat_names, cont_names, y_names, y_block, splits, do_setup, device, inplace, reduce_memory)\u001b[0m\n\u001b[0;32m    154\u001b[0m \u001b[38;5;28;01mif\u001b[39;00m \u001b[38;5;129;01mnot\u001b[39;00m inplace: df \u001b[38;5;241m=\u001b[39m df\u001b[38;5;241m.\u001b[39mcopy()\n\u001b[0;32m    155\u001b[0m \u001b[38;5;28;01mif\u001b[39;00m reduce_memory: df \u001b[38;5;241m=\u001b[39m df_shrink(df)\n\u001b[1;32m--> 156\u001b[0m \u001b[38;5;28;01mif\u001b[39;00m splits \u001b[38;5;129;01mis\u001b[39;00m \u001b[38;5;129;01mnot\u001b[39;00m \u001b[38;5;28;01mNone\u001b[39;00m: df \u001b[38;5;241m=\u001b[39m \u001b[43mdf\u001b[49m\u001b[38;5;241;43m.\u001b[39;49m\u001b[43miloc\u001b[49m\u001b[43m[\u001b[49m\u001b[38;5;28;43msum\u001b[39;49m\u001b[43m(\u001b[49m\u001b[43msplits\u001b[49m\u001b[43m,\u001b[49m\u001b[43m \u001b[49m\u001b[43m[\u001b[49m\u001b[43m]\u001b[49m\u001b[43m)\u001b[49m\u001b[43m]\u001b[49m\n\u001b[0;32m    157\u001b[0m \u001b[38;5;28mself\u001b[39m\u001b[38;5;241m.\u001b[39mdataloaders \u001b[38;5;241m=\u001b[39m delegates(\u001b[38;5;28mself\u001b[39m\u001b[38;5;241m.\u001b[39m_dl_type\u001b[38;5;241m.\u001b[39m\u001b[38;5;21m__init__\u001b[39m)(\u001b[38;5;28mself\u001b[39m\u001b[38;5;241m.\u001b[39mdataloaders)\n\u001b[0;32m    158\u001b[0m \u001b[38;5;28msuper\u001b[39m()\u001b[38;5;241m.\u001b[39m\u001b[38;5;21m__init__\u001b[39m(df)\n",
      "File \u001b[1;32mc:\\users\\ivan\\appdata\\local\\programs\\python\\python39\\lib\\site-packages\\pandas\\core\\indexing.py:967\u001b[0m, in \u001b[0;36m_LocationIndexer.__getitem__\u001b[1;34m(self, key)\u001b[0m\n\u001b[0;32m    964\u001b[0m axis \u001b[38;5;241m=\u001b[39m \u001b[38;5;28mself\u001b[39m\u001b[38;5;241m.\u001b[39maxis \u001b[38;5;129;01mor\u001b[39;00m \u001b[38;5;241m0\u001b[39m\n\u001b[0;32m    966\u001b[0m maybe_callable \u001b[38;5;241m=\u001b[39m com\u001b[38;5;241m.\u001b[39mapply_if_callable(key, \u001b[38;5;28mself\u001b[39m\u001b[38;5;241m.\u001b[39mobj)\n\u001b[1;32m--> 967\u001b[0m \u001b[38;5;28;01mreturn\u001b[39;00m \u001b[38;5;28;43mself\u001b[39;49m\u001b[38;5;241;43m.\u001b[39;49m\u001b[43m_getitem_axis\u001b[49m\u001b[43m(\u001b[49m\u001b[43mmaybe_callable\u001b[49m\u001b[43m,\u001b[49m\u001b[43m \u001b[49m\u001b[43maxis\u001b[49m\u001b[38;5;241;43m=\u001b[39;49m\u001b[43maxis\u001b[49m\u001b[43m)\u001b[49m\n",
      "File \u001b[1;32mc:\\users\\ivan\\appdata\\local\\programs\\python\\python39\\lib\\site-packages\\pandas\\core\\indexing.py:1511\u001b[0m, in \u001b[0;36m_iLocIndexer._getitem_axis\u001b[1;34m(self, key, axis)\u001b[0m\n\u001b[0;32m   1509\u001b[0m \u001b[38;5;66;03m# a list of integers\u001b[39;00m\n\u001b[0;32m   1510\u001b[0m \u001b[38;5;28;01melif\u001b[39;00m is_list_like_indexer(key):\n\u001b[1;32m-> 1511\u001b[0m     \u001b[38;5;28;01mreturn\u001b[39;00m \u001b[38;5;28;43mself\u001b[39;49m\u001b[38;5;241;43m.\u001b[39;49m\u001b[43m_get_list_axis\u001b[49m\u001b[43m(\u001b[49m\u001b[43mkey\u001b[49m\u001b[43m,\u001b[49m\u001b[43m \u001b[49m\u001b[43maxis\u001b[49m\u001b[38;5;241;43m=\u001b[39;49m\u001b[43maxis\u001b[49m\u001b[43m)\u001b[49m\n\u001b[0;32m   1513\u001b[0m \u001b[38;5;66;03m# a single integer\u001b[39;00m\n\u001b[0;32m   1514\u001b[0m \u001b[38;5;28;01melse\u001b[39;00m:\n\u001b[0;32m   1515\u001b[0m     key \u001b[38;5;241m=\u001b[39m item_from_zerodim(key)\n",
      "File \u001b[1;32mc:\\users\\ivan\\appdata\\local\\programs\\python\\python39\\lib\\site-packages\\pandas\\core\\indexing.py:1482\u001b[0m, in \u001b[0;36m_iLocIndexer._get_list_axis\u001b[1;34m(self, key, axis)\u001b[0m\n\u001b[0;32m   1465\u001b[0m \u001b[38;5;124;03m\"\"\"\u001b[39;00m\n\u001b[0;32m   1466\u001b[0m \u001b[38;5;124;03mReturn Series values by list or array of integers.\u001b[39;00m\n\u001b[0;32m   1467\u001b[0m \n\u001b[1;32m   (...)\u001b[0m\n\u001b[0;32m   1479\u001b[0m \u001b[38;5;124;03m`axis` can only be zero.\u001b[39;00m\n\u001b[0;32m   1480\u001b[0m \u001b[38;5;124;03m\"\"\"\u001b[39;00m\n\u001b[0;32m   1481\u001b[0m \u001b[38;5;28;01mtry\u001b[39;00m:\n\u001b[1;32m-> 1482\u001b[0m     \u001b[38;5;28;01mreturn\u001b[39;00m \u001b[38;5;28;43mself\u001b[39;49m\u001b[38;5;241;43m.\u001b[39;49m\u001b[43mobj\u001b[49m\u001b[38;5;241;43m.\u001b[39;49m\u001b[43m_take_with_is_copy\u001b[49m\u001b[43m(\u001b[49m\u001b[43mkey\u001b[49m\u001b[43m,\u001b[49m\u001b[43m \u001b[49m\u001b[43maxis\u001b[49m\u001b[38;5;241;43m=\u001b[39;49m\u001b[43maxis\u001b[49m\u001b[43m)\u001b[49m\n\u001b[0;32m   1483\u001b[0m \u001b[38;5;28;01mexcept\u001b[39;00m \u001b[38;5;167;01mIndexError\u001b[39;00m \u001b[38;5;28;01mas\u001b[39;00m err:\n\u001b[0;32m   1484\u001b[0m     \u001b[38;5;66;03m# re-raise with different error message\u001b[39;00m\n\u001b[0;32m   1485\u001b[0m     \u001b[38;5;28;01mraise\u001b[39;00m \u001b[38;5;167;01mIndexError\u001b[39;00m(\u001b[38;5;124m\"\u001b[39m\u001b[38;5;124mpositional indexers are out-of-bounds\u001b[39m\u001b[38;5;124m\"\u001b[39m) \u001b[38;5;28;01mfrom\u001b[39;00m \u001b[38;5;21;01merr\u001b[39;00m\n",
      "File \u001b[1;32mc:\\users\\ivan\\appdata\\local\\programs\\python\\python39\\lib\\site-packages\\pandas\\core\\generic.py:3716\u001b[0m, in \u001b[0;36mNDFrame._take_with_is_copy\u001b[1;34m(self, indices, axis)\u001b[0m\n\u001b[0;32m   3708\u001b[0m \u001b[38;5;28;01mdef\u001b[39;00m \u001b[38;5;21m_take_with_is_copy\u001b[39m(\u001b[38;5;28mself\u001b[39m: NDFrameT, indices, axis\u001b[38;5;241m=\u001b[39m\u001b[38;5;241m0\u001b[39m) \u001b[38;5;241m-\u001b[39m\u001b[38;5;241m>\u001b[39m NDFrameT:\n\u001b[0;32m   3709\u001b[0m     \u001b[38;5;124;03m\"\"\"\u001b[39;00m\n\u001b[0;32m   3710\u001b[0m \u001b[38;5;124;03m    Internal version of the `take` method that sets the `_is_copy`\u001b[39;00m\n\u001b[0;32m   3711\u001b[0m \u001b[38;5;124;03m    attribute to keep track of the parent dataframe (using in indexing\u001b[39;00m\n\u001b[1;32m   (...)\u001b[0m\n\u001b[0;32m   3714\u001b[0m \u001b[38;5;124;03m    See the docstring of `take` for full explanation of the parameters.\u001b[39;00m\n\u001b[0;32m   3715\u001b[0m \u001b[38;5;124;03m    \"\"\"\u001b[39;00m\n\u001b[1;32m-> 3716\u001b[0m     result \u001b[38;5;241m=\u001b[39m \u001b[38;5;28;43mself\u001b[39;49m\u001b[38;5;241;43m.\u001b[39;49m\u001b[43mtake\u001b[49m\u001b[43m(\u001b[49m\u001b[43mindices\u001b[49m\u001b[38;5;241;43m=\u001b[39;49m\u001b[43mindices\u001b[49m\u001b[43m,\u001b[49m\u001b[43m \u001b[49m\u001b[43maxis\u001b[49m\u001b[38;5;241;43m=\u001b[39;49m\u001b[43maxis\u001b[49m\u001b[43m)\u001b[49m\n\u001b[0;32m   3717\u001b[0m     \u001b[38;5;66;03m# Maybe set copy if we didn't actually change the index.\u001b[39;00m\n\u001b[0;32m   3718\u001b[0m     \u001b[38;5;28;01mif\u001b[39;00m \u001b[38;5;129;01mnot\u001b[39;00m result\u001b[38;5;241m.\u001b[39m_get_axis(axis)\u001b[38;5;241m.\u001b[39mequals(\u001b[38;5;28mself\u001b[39m\u001b[38;5;241m.\u001b[39m_get_axis(axis)):\n",
      "File \u001b[1;32mc:\\users\\ivan\\appdata\\local\\programs\\python\\python39\\lib\\site-packages\\pandas\\core\\generic.py:3703\u001b[0m, in \u001b[0;36mNDFrame.take\u001b[1;34m(self, indices, axis, is_copy, **kwargs)\u001b[0m\n\u001b[0;32m   3699\u001b[0m nv\u001b[38;5;241m.\u001b[39mvalidate_take((), kwargs)\n\u001b[0;32m   3701\u001b[0m \u001b[38;5;28mself\u001b[39m\u001b[38;5;241m.\u001b[39m_consolidate_inplace()\n\u001b[1;32m-> 3703\u001b[0m new_data \u001b[38;5;241m=\u001b[39m \u001b[38;5;28;43mself\u001b[39;49m\u001b[38;5;241;43m.\u001b[39;49m\u001b[43m_mgr\u001b[49m\u001b[38;5;241;43m.\u001b[39;49m\u001b[43mtake\u001b[49m\u001b[43m(\u001b[49m\n\u001b[0;32m   3704\u001b[0m \u001b[43m    \u001b[49m\u001b[43mindices\u001b[49m\u001b[43m,\u001b[49m\u001b[43m \u001b[49m\u001b[43maxis\u001b[49m\u001b[38;5;241;43m=\u001b[39;49m\u001b[38;5;28;43mself\u001b[39;49m\u001b[38;5;241;43m.\u001b[39;49m\u001b[43m_get_block_manager_axis\u001b[49m\u001b[43m(\u001b[49m\u001b[43maxis\u001b[49m\u001b[43m)\u001b[49m\u001b[43m,\u001b[49m\u001b[43m \u001b[49m\u001b[43mverify\u001b[49m\u001b[38;5;241;43m=\u001b[39;49m\u001b[38;5;28;43;01mTrue\u001b[39;49;00m\n\u001b[0;32m   3705\u001b[0m \u001b[43m\u001b[49m\u001b[43m)\u001b[49m\n\u001b[0;32m   3706\u001b[0m \u001b[38;5;28;01mreturn\u001b[39;00m \u001b[38;5;28mself\u001b[39m\u001b[38;5;241m.\u001b[39m_constructor(new_data)\u001b[38;5;241m.\u001b[39m__finalize__(\u001b[38;5;28mself\u001b[39m, method\u001b[38;5;241m=\u001b[39m\u001b[38;5;124m\"\u001b[39m\u001b[38;5;124mtake\u001b[39m\u001b[38;5;124m\"\u001b[39m)\n",
      "File \u001b[1;32mc:\\users\\ivan\\appdata\\local\\programs\\python\\python39\\lib\\site-packages\\pandas\\core\\internals\\managers.py:893\u001b[0m, in \u001b[0;36mBaseBlockManager.take\u001b[1;34m(self, indexer, axis, verify)\u001b[0m\n\u001b[0;32m    876\u001b[0m \u001b[38;5;124;03m\"\"\"\u001b[39;00m\n\u001b[0;32m    877\u001b[0m \u001b[38;5;124;03mTake items along any axis.\u001b[39;00m\n\u001b[0;32m    878\u001b[0m \n\u001b[1;32m   (...)\u001b[0m\n\u001b[0;32m    887\u001b[0m \u001b[38;5;124;03mBlockManager\u001b[39;00m\n\u001b[0;32m    888\u001b[0m \u001b[38;5;124;03m\"\"\"\u001b[39;00m\n\u001b[0;32m    889\u001b[0m \u001b[38;5;66;03m# We have 6 tests that get here with a slice\u001b[39;00m\n\u001b[0;32m    890\u001b[0m indexer \u001b[38;5;241m=\u001b[39m (\n\u001b[0;32m    891\u001b[0m     np\u001b[38;5;241m.\u001b[39marange(indexer\u001b[38;5;241m.\u001b[39mstart, indexer\u001b[38;5;241m.\u001b[39mstop, indexer\u001b[38;5;241m.\u001b[39mstep, dtype\u001b[38;5;241m=\u001b[39mnp\u001b[38;5;241m.\u001b[39mintp)\n\u001b[0;32m    892\u001b[0m     \u001b[38;5;28;01mif\u001b[39;00m \u001b[38;5;28misinstance\u001b[39m(indexer, \u001b[38;5;28mslice\u001b[39m)\n\u001b[1;32m--> 893\u001b[0m     \u001b[38;5;28;01melse\u001b[39;00m \u001b[43mnp\u001b[49m\u001b[38;5;241;43m.\u001b[39;49m\u001b[43masanyarray\u001b[49m\u001b[43m(\u001b[49m\u001b[43mindexer\u001b[49m\u001b[43m,\u001b[49m\u001b[43m \u001b[49m\u001b[43mdtype\u001b[49m\u001b[38;5;241;43m=\u001b[39;49m\u001b[43mnp\u001b[49m\u001b[38;5;241;43m.\u001b[39;49m\u001b[43mintp\u001b[49m\u001b[43m)\u001b[49m\n\u001b[0;32m    894\u001b[0m )\n\u001b[0;32m    896\u001b[0m n \u001b[38;5;241m=\u001b[39m \u001b[38;5;28mself\u001b[39m\u001b[38;5;241m.\u001b[39mshape[axis]\n\u001b[0;32m    897\u001b[0m indexer \u001b[38;5;241m=\u001b[39m maybe_convert_indices(indexer, n, verify\u001b[38;5;241m=\u001b[39mverify)\n",
      "\u001b[1;31mValueError\u001b[0m: invalid literal for int() with base 10: 'Distance(mi)'"
     ]
    }
   ],
   "source": [
    "procs = [Categorify,FillMissing, Normalize]\n",
    "\n",
    "cont,cat = cont_cat_split(datasets, 1, dep_var=\"Distance(mi)\")\n",
    "splits = (list(X_train),list(X_test))\n",
    "to = TabularPandas(X_test, procs, cols_string, cols_numerical, \"Distance(mi)\", y_block=RegressionBlock(),\n",
    "                   splits=splits, inplace=True, reduce_memory=True)"
   ]
  },
  {
   "cell_type": "code",
   "execution_count": 6,
   "metadata": {},
   "outputs": [],
   "source": [
    "PredictorScaler=StandardScaler()\n",
    "TargetVarScaler=StandardScaler()\n",
    "# Storing the fit object for later reference\n",
    "PredictorScalerFit=PredictorScaler.fit(X)\n",
    "TargetVarScalerFit=TargetVarScaler.fit(y)\n",
    "\n",
    "# Generating the standardized values of X and y\n",
    "X=PredictorScalerFit.transform(X)\n",
    "y=TargetVarScalerFit.transform(y)"
   ]
  },
  {
   "cell_type": "code",
   "execution_count": null,
   "metadata": {},
   "outputs": [],
   "source": []
  },
  {
   "cell_type": "code",
   "execution_count": 26,
   "metadata": {},
   "outputs": [
    {
     "name": "stdout",
     "output_type": "stream",
     "text": [
      "[[0.02081373]\n",
      " [0.00322194]\n",
      " [0.00335726]\n",
      " ...\n",
      " [0.00361502]\n",
      " [0.00497468]\n",
      " [0.00346036]]\n"
     ]
    }
   ],
   "source": [
    "print(y)"
   ]
  },
  {
   "cell_type": "code",
   "execution_count": null,
   "metadata": {
    "id": "tROvQwnrS_hE"
   },
   "outputs": [],
   "source": [
    "# from sklearn.preprocessing import LabelEncoder\n",
    "# from keras.utils import np_utils\n",
    "\n",
    "# # encode class values as integers\n",
    "# encoder = LabelEncoder()\n",
    "# encoder.fit(y)\n",
    "# encoded_Y = encoder.transform(y)\n",
    "# # convert integers to dummy variables (i.e. one hot encoded)\n",
    "# dummy_y = np_utils.to_categorical(encoded_Y)"
   ]
  },
  {
   "cell_type": "code",
   "execution_count": 7,
   "metadata": {
    "colab": {
     "base_uri": "https://localhost:8080/"
    },
    "id": "l4vhheVQPt_Q",
    "outputId": "2edf2992-7da3-4cea-d209-e47a6cdd44df"
   },
   "outputs": [],
   "source": [
    "# Split the data into training and testing set\n",
    "from sklearn.model_selection import train_test_split\n",
    "X_train, X_test, y_train, y_test = train_test_split(X, y, test_size=0.3, random_state=42)"
   ]
  },
  {
   "cell_type": "code",
   "execution_count": 28,
   "metadata": {},
   "outputs": [],
   "source": [
    "# # reshape input to be [samples, time steps, features]\n",
    "# X_train = np.reshape(X_train, (X_train.shape[0], 1, X_train.shape[1]))\n",
    "# X_test = np.reshape(X-test, (X_test.shape[0], 1, X_test.shape[1]))"
   ]
  },
  {
   "cell_type": "code",
   "execution_count": 29,
   "metadata": {
    "id": "6ZqDi90n25ST"
   },
   "outputs": [],
   "source": [
    "# model = Sequential()\n",
    "# model.add(Dense(12, input_shape=(6,), activation='relu'))\n",
    "# model.add(Dense(8, activation='relu'))\n",
    "# model.add(Dense(1, activation='sigmoid'))\n",
    "\n",
    "# model = Sequential()\n",
    "# model.add(LSTM(50, input_shape=(27,1), activation='relu'))\n",
    "# # model.add(LSTM(100))\n",
    "\n",
    "# model.add(Dense(1))\n",
    "# Defining the Second layer of the model\n",
    "# after the first layer we don't have to specify input_dim as keras configure it automatically\n",
    "# model.add(Dense(units=5, kernel_initializer='normal', activation='tanh'))\n",
    "\n",
    "# The output neuron is a single fully connected node \n",
    "# Since we will be predicting a single number\n",
    "# model.add(Dense(1, kernel_initializer = 'normal'))"
   ]
  },
  {
   "cell_type": "code",
   "execution_count": 10,
   "metadata": {},
   "outputs": [],
   "source": [
    "model = Sequential([\n",
    "    layers.Dense(32, activation='relu'),\n",
    "    layers.Dense(64, activation='relu'),\n",
    "    layers.Dense(1)\n",
    "])"
   ]
  },
  {
   "cell_type": "code",
   "execution_count": 26,
   "metadata": {
    "id": "kdFEzKiR3CtJ"
   },
   "outputs": [],
   "source": [
    "# Compiling the model\n",
    "# model.compile(loss='mse', optimizer='adam', metrics=['accuracy'])\n",
    "\n",
    "model.compile(optimizer=\"RMSProp\",\n",
    "              loss=\"mean_squared_error\", metrics=['accuracy'])"
   ]
  },
  {
   "cell_type": "code",
   "execution_count": 27,
   "metadata": {
    "colab": {
     "base_uri": "https://localhost:8080/",
     "height": 363
    },
    "id": "NJ0EdLnN3ENe",
    "outputId": "d64414be-d48a-4b82-bd98-d4bce4eec39a"
   },
   "outputs": [
    {
     "name": "stdout",
     "output_type": "stream",
     "text": [
      "Epoch 1/10\n",
      "48286/48286 [==============================] - 44s 896us/step - loss: 1.0470 - accuracy: 0.0000e+00 - val_loss: 1.0827 - val_accuracy: 0.0000e+00\n",
      "Epoch 2/10\n",
      "48286/48286 [==============================] - 44s 904us/step - loss: 1.0499 - accuracy: 0.0000e+00 - val_loss: 1.1588 - val_accuracy: 0.0000e+00\n",
      "Epoch 3/10\n",
      "48286/48286 [==============================] - 43s 894us/step - loss: 1.0750 - accuracy: 0.0000e+00 - val_loss: 0.9566 - val_accuracy: 0.0000e+00\n",
      "Epoch 4/10\n",
      "48286/48286 [==============================] - 43s 891us/step - loss: 1.1466 - accuracy: 0.0000e+00 - val_loss: 0.9973 - val_accuracy: 0.0000e+00\n",
      "Epoch 5/10\n",
      "48286/48286 [==============================] - 46s 944us/step - loss: 1.1237 - accuracy: 0.0000e+00 - val_loss: 0.9601 - val_accuracy: 0.0000e+00\n",
      "Epoch 6/10\n",
      "48286/48286 [==============================] - 44s 907us/step - loss: 1.1419 - accuracy: 0.0000e+00 - val_loss: 1.4749 - val_accuracy: 0.0000e+00\n",
      "Epoch 7/10\n",
      "48286/48286 [==============================] - 44s 911us/step - loss: 1.1955 - accuracy: 0.0000e+00 - val_loss: 1.0029 - val_accuracy: 0.0000e+00\n",
      "Epoch 8/10\n",
      "48286/48286 [==============================] - 44s 913us/step - loss: 1.1971 - accuracy: 0.0000e+00 - val_loss: 1.1175 - val_accuracy: 0.0000e+00\n",
      "Epoch 9/10\n",
      "48286/48286 [==============================] - 45s 927us/step - loss: 1.2331 - accuracy: 0.0000e+00 - val_loss: 1.7068 - val_accuracy: 0.0000e+00\n",
      "Epoch 10/10\n",
      "48286/48286 [==============================] - 44s 903us/step - loss: 1.1963 - accuracy: 0.0000e+00 - val_loss: 1.0852 - val_accuracy: 0.0000e+00\n"
     ]
    }
   ],
   "source": [
    "# Fitting the ANN to the Training set\n",
    "history = model.fit(epochs = 10, x=X_train, y=y_train , validation_data=(X_test, y_test))\n",
    "\n",
    "# estimator = KerasRegressor(build_fn=model, epochs=100, batch_size=5, verbose=0)"
   ]
  },
  {
   "cell_type": "code",
   "execution_count": 17,
   "metadata": {},
   "outputs": [
    {
     "data": {
      "image/png": "[encoded data removed]",
      "text/plain": [
       "<Figure size 432x288 with 1 Axes>"
      ]
     },
     "metadata": {
      "needs_background": "light"
     },
     "output_type": "display_data"
    }
   ],
   "source": [
    "# Function to plot loss\n",
    "def plot_loss(history):\n",
    "    plt.plot(history.history['loss'], label='loss')\n",
    "    plt.plot(history.history['val_loss'], label='val_loss')\n",
    "    plt.ylim([0,10])\n",
    "    plt.xlabel('Epoch')\n",
    "    plt.ylabel('Error (Loss)')\n",
    "    plt.legend()\n",
    "    plt.grid(True)\n",
    "########################################################\n",
    "plot_loss(history)"
   ]
  },
  {
   "cell_type": "code",
   "execution_count": 19,
   "metadata": {
    "colab": {
     "base_uri": "https://localhost:8080/"
    },
    "id": "tDL1GDWs3HCJ",
    "outputId": "5f1c4205-c461-4116-d8a9-e9e21eb2ad41"
   },
   "outputs": [
    {
     "name": "stdout",
     "output_type": "stream",
     "text": [
      "20694/20694 [==============================] - 11s 518us/step - loss: 0.9812\n"
     ]
    },
    {
     "data": {
      "text/plain": [
       "0.981248140335083"
      ]
     },
     "execution_count": 19,
     "metadata": {},
     "output_type": "execute_result"
    }
   ],
   "source": [
    "# Model evaluation on testing dataset\n",
    "model.evaluate(X_test, y_test)"
   ]
  },
  {
   "cell_type": "code",
   "execution_count": 25,
   "metadata": {},
   "outputs": [
    {
     "name": "stdout",
     "output_type": "stream",
     "text": [
      "20694/20694 [==============================] - 9s 445us/step\n",
      "[[-0.5339856 ]\n",
      " [-0.5294614 ]\n",
      " [ 0.05937243]\n",
      " ...\n",
      " [ 0.11679316]\n",
      " [ 0.06680393]\n",
      " [ 0.54473734]]\n"
     ]
    }
   ],
   "source": [
    "results = model.predict(X_test,verbose =1)\n",
    "########################################################\n",
    "print(results)"
   ]
  },
  {
   "cell_type": "code",
   "execution_count": 22,
   "metadata": {},
   "outputs": [
    {
     "name": "stdout",
     "output_type": "stream",
     "text": [
      "[[-0.10706351]\n",
      " [-0.1002529 ]\n",
      " [ 0.7861613 ]\n",
      " ...\n",
      " [ 0.87260085]\n",
      " [ 0.7973485 ]\n",
      " [ 1.5168163 ]]\n"
     ]
    }
   ],
   "source": [
    "# We can decode using the scikit-learn object to get the result\n",
    "decoded_result = TargetVarScaler.inverse_transform(results.reshape(-1,1))\n",
    "print(decoded_result)"
   ]
  },
  {
   "cell_type": "code",
   "execution_count": null,
   "metadata": {},
   "outputs": [],
   "source": []
  }
 ],
 "metadata": {
  "colab": {
   "name": "NeuralNetwork_Testing(Distance).ipynb",
   "provenance": []
  },
  "kernelspec": {
   "display_name": "Python 3 (ipykernel)",
   "language": "python",
   "name": "python3"
  },
  "language_info": {
   "codemirror_mode": {
    "name": "ipython",
    "version": 3
   },
   "file_extension": ".py",
   "mimetype": "text/x-python",
   "name": "python",
   "nbconvert_exporter": "python",
   "pygments_lexer": "ipython3",
   "version": "3.9.0"
  }
 },
 "nbformat": 4,
 "nbformat_minor": 1
}

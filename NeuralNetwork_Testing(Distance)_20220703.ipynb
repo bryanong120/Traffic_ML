{
 "cells": [
  {
   "cell_type": "code",
   "execution_count": 9,
   "metadata": {
    "id": "RIykaclL1-JN"
   },
   "outputs": [],
   "source": [
    "# first neural network with keras tutorial\n",
    "from numpy import loadtxt\n",
    "from tensorflow.keras.models import Sequential\n",
    "from tensorflow.keras.layers import Dense\n",
    "from tensorflow.keras.layers import LSTM\n",
    "from tensorflow.keras import layers\n",
    "import numpy as np\n",
    "import matplotlib.pyplot as plt\n",
    "import pandas as pd\n",
    "from keras.wrappers.scikit_learn import KerasRegressor\n",
    "from sklearn.preprocessing import StandardScaler\n",
    "from sklearn.preprocessing import MinMaxScaler\n",
    "from sklearn.model_selection import KFold\n",
    "from sklearn.model_selection import cross_val_score"
   ]
  },
  {
   "cell_type": "code",
   "execution_count": 2,
   "metadata": {
    "colab": {
     "base_uri": "https://localhost:8080/"
    },
    "id": "YSXAt0k22Ohz",
    "outputId": "8b8b0f6e-0f36-4344-ed4a-73b6f13dea8c"
   },
   "outputs": [],
   "source": [
    "datasets = pd.read_csv('USA_accident_dataset.csv')\n",
    "# X = datasets.iloc[:, [2,3]].values\n",
    "# Y = datasets.iloc[:, 4].values\n",
    "\n",
    "datasets = datasets.drop(columns=['Start_Time', 'End_Time', 'Timezone', 'Weather_Timestamp'])\n",
    "\n",
    "\n",
    "\n"
   ]
  },
  {
   "cell_type": "code",
   "execution_count": 3,
   "metadata": {
    "colab": {
     "base_uri": "https://localhost:8080/",
     "height": 488
    },
    "id": "kPG8GqeVRWeM",
    "outputId": "85440351-c357-4c76-a783-28587a69af95"
   },
   "outputs": [
    {
     "data": {
      "text/html": [
       "<div>\n",
       "<style scoped>\n",
       "    .dataframe tbody tr th:only-of-type {\n",
       "        vertical-align: middle;\n",
       "    }\n",
       "\n",
       "    .dataframe tbody tr th {\n",
       "        vertical-align: top;\n",
       "    }\n",
       "\n",
       "    .dataframe thead th {\n",
       "        text-align: right;\n",
       "    }\n",
       "</style>\n",
       "<table border=\"1\" class=\"dataframe\">\n",
       "  <thead>\n",
       "    <tr style=\"text-align: right;\">\n",
       "      <th></th>\n",
       "      <th>Severity</th>\n",
       "      <th>Distance(mi)</th>\n",
       "      <th>City</th>\n",
       "      <th>County</th>\n",
       "      <th>State</th>\n",
       "      <th>Temperature(F)</th>\n",
       "      <th>Wind_Chill(F)</th>\n",
       "      <th>Humidity(%)</th>\n",
       "      <th>Pressure(in)</th>\n",
       "      <th>Visibility(mi)</th>\n",
       "      <th>...</th>\n",
       "      <th>No_Exit</th>\n",
       "      <th>Railway</th>\n",
       "      <th>Roundabout</th>\n",
       "      <th>Station</th>\n",
       "      <th>Stop</th>\n",
       "      <th>Traffic_Calming</th>\n",
       "      <th>Traffic_Signal</th>\n",
       "      <th>Turning_Loop</th>\n",
       "      <th>Sunrise_Sunset</th>\n",
       "      <th>Time_Duration(min)</th>\n",
       "    </tr>\n",
       "  </thead>\n",
       "  <tbody>\n",
       "    <tr>\n",
       "      <th>0</th>\n",
       "      <td>3.0</td>\n",
       "      <td>3.230</td>\n",
       "      <td>1</td>\n",
       "      <td>1</td>\n",
       "      <td>1</td>\n",
       "      <td>42.1</td>\n",
       "      <td>36.1</td>\n",
       "      <td>58.0</td>\n",
       "      <td>29.76</td>\n",
       "      <td>10.0</td>\n",
       "      <td>...</td>\n",
       "      <td>False</td>\n",
       "      <td>False</td>\n",
       "      <td>False</td>\n",
       "      <td>False</td>\n",
       "      <td>False</td>\n",
       "      <td>False</td>\n",
       "      <td>False</td>\n",
       "      <td>False</td>\n",
       "      <td>1</td>\n",
       "      <td>360.0</td>\n",
       "    </tr>\n",
       "    <tr>\n",
       "      <th>1</th>\n",
       "      <td>3.0</td>\n",
       "      <td>0.500</td>\n",
       "      <td>2</td>\n",
       "      <td>2</td>\n",
       "      <td>1</td>\n",
       "      <td>37.0</td>\n",
       "      <td>29.8</td>\n",
       "      <td>93.0</td>\n",
       "      <td>29.69</td>\n",
       "      <td>10.0</td>\n",
       "      <td>...</td>\n",
       "      <td>False</td>\n",
       "      <td>False</td>\n",
       "      <td>False</td>\n",
       "      <td>False</td>\n",
       "      <td>False</td>\n",
       "      <td>False</td>\n",
       "      <td>False</td>\n",
       "      <td>False</td>\n",
       "      <td>2</td>\n",
       "      <td>360.0</td>\n",
       "    </tr>\n",
       "    <tr>\n",
       "      <th>2</th>\n",
       "      <td>2.0</td>\n",
       "      <td>0.521</td>\n",
       "      <td>3</td>\n",
       "      <td>3</td>\n",
       "      <td>1</td>\n",
       "      <td>33.1</td>\n",
       "      <td>30.0</td>\n",
       "      <td>92.0</td>\n",
       "      <td>29.63</td>\n",
       "      <td>0.5</td>\n",
       "      <td>...</td>\n",
       "      <td>False</td>\n",
       "      <td>False</td>\n",
       "      <td>False</td>\n",
       "      <td>False</td>\n",
       "      <td>False</td>\n",
       "      <td>False</td>\n",
       "      <td>False</td>\n",
       "      <td>False</td>\n",
       "      <td>2</td>\n",
       "      <td>360.0</td>\n",
       "    </tr>\n",
       "    <tr>\n",
       "      <th>3</th>\n",
       "      <td>2.0</td>\n",
       "      <td>0.826</td>\n",
       "      <td>4</td>\n",
       "      <td>1</td>\n",
       "      <td>1</td>\n",
       "      <td>32.0</td>\n",
       "      <td>28.7</td>\n",
       "      <td>100.0</td>\n",
       "      <td>29.59</td>\n",
       "      <td>0.5</td>\n",
       "      <td>...</td>\n",
       "      <td>False</td>\n",
       "      <td>False</td>\n",
       "      <td>False</td>\n",
       "      <td>False</td>\n",
       "      <td>False</td>\n",
       "      <td>False</td>\n",
       "      <td>False</td>\n",
       "      <td>False</td>\n",
       "      <td>2</td>\n",
       "      <td>360.0</td>\n",
       "    </tr>\n",
       "    <tr>\n",
       "      <th>4</th>\n",
       "      <td>2.0</td>\n",
       "      <td>0.307</td>\n",
       "      <td>2</td>\n",
       "      <td>2</td>\n",
       "      <td>1</td>\n",
       "      <td>33.8</td>\n",
       "      <td>29.6</td>\n",
       "      <td>100.0</td>\n",
       "      <td>29.66</td>\n",
       "      <td>3.0</td>\n",
       "      <td>...</td>\n",
       "      <td>False</td>\n",
       "      <td>False</td>\n",
       "      <td>False</td>\n",
       "      <td>False</td>\n",
       "      <td>False</td>\n",
       "      <td>False</td>\n",
       "      <td>False</td>\n",
       "      <td>False</td>\n",
       "      <td>2</td>\n",
       "      <td>360.0</td>\n",
       "    </tr>\n",
       "    <tr>\n",
       "      <th>...</th>\n",
       "      <td>...</td>\n",
       "      <td>...</td>\n",
       "      <td>...</td>\n",
       "      <td>...</td>\n",
       "      <td>...</td>\n",
       "      <td>...</td>\n",
       "      <td>...</td>\n",
       "      <td>...</td>\n",
       "      <td>...</td>\n",
       "      <td>...</td>\n",
       "      <td>...</td>\n",
       "      <td>...</td>\n",
       "      <td>...</td>\n",
       "      <td>...</td>\n",
       "      <td>...</td>\n",
       "      <td>...</td>\n",
       "      <td>...</td>\n",
       "      <td>...</td>\n",
       "      <td>...</td>\n",
       "      <td>...</td>\n",
       "      <td>...</td>\n",
       "    </tr>\n",
       "    <tr>\n",
       "      <th>2207321</th>\n",
       "      <td>2.0</td>\n",
       "      <td>0.543</td>\n",
       "      <td>1577</td>\n",
       "      <td>53</td>\n",
       "      <td>7</td>\n",
       "      <td>86.0</td>\n",
       "      <td>86.0</td>\n",
       "      <td>40.0</td>\n",
       "      <td>28.92</td>\n",
       "      <td>10.0</td>\n",
       "      <td>...</td>\n",
       "      <td>False</td>\n",
       "      <td>False</td>\n",
       "      <td>False</td>\n",
       "      <td>False</td>\n",
       "      <td>False</td>\n",
       "      <td>False</td>\n",
       "      <td>False</td>\n",
       "      <td>False</td>\n",
       "      <td>2</td>\n",
       "      <td>29.0</td>\n",
       "    </tr>\n",
       "    <tr>\n",
       "      <th>2207322</th>\n",
       "      <td>2.0</td>\n",
       "      <td>0.338</td>\n",
       "      <td>1326</td>\n",
       "      <td>503</td>\n",
       "      <td>7</td>\n",
       "      <td>70.0</td>\n",
       "      <td>70.0</td>\n",
       "      <td>73.0</td>\n",
       "      <td>29.39</td>\n",
       "      <td>10.0</td>\n",
       "      <td>...</td>\n",
       "      <td>False</td>\n",
       "      <td>False</td>\n",
       "      <td>False</td>\n",
       "      <td>False</td>\n",
       "      <td>False</td>\n",
       "      <td>False</td>\n",
       "      <td>False</td>\n",
       "      <td>False</td>\n",
       "      <td>2</td>\n",
       "      <td>27.0</td>\n",
       "    </tr>\n",
       "    <tr>\n",
       "      <th>2207323</th>\n",
       "      <td>2.0</td>\n",
       "      <td>0.561</td>\n",
       "      <td>978</td>\n",
       "      <td>269</td>\n",
       "      <td>7</td>\n",
       "      <td>73.0</td>\n",
       "      <td>73.0</td>\n",
       "      <td>64.0</td>\n",
       "      <td>29.74</td>\n",
       "      <td>10.0</td>\n",
       "      <td>...</td>\n",
       "      <td>False</td>\n",
       "      <td>False</td>\n",
       "      <td>False</td>\n",
       "      <td>False</td>\n",
       "      <td>False</td>\n",
       "      <td>False</td>\n",
       "      <td>False</td>\n",
       "      <td>False</td>\n",
       "      <td>2</td>\n",
       "      <td>28.0</td>\n",
       "    </tr>\n",
       "    <tr>\n",
       "      <th>2207324</th>\n",
       "      <td>2.0</td>\n",
       "      <td>0.772</td>\n",
       "      <td>2275</td>\n",
       "      <td>51</td>\n",
       "      <td>7</td>\n",
       "      <td>71.0</td>\n",
       "      <td>71.0</td>\n",
       "      <td>81.0</td>\n",
       "      <td>29.62</td>\n",
       "      <td>10.0</td>\n",
       "      <td>...</td>\n",
       "      <td>False</td>\n",
       "      <td>False</td>\n",
       "      <td>False</td>\n",
       "      <td>False</td>\n",
       "      <td>False</td>\n",
       "      <td>False</td>\n",
       "      <td>False</td>\n",
       "      <td>False</td>\n",
       "      <td>2</td>\n",
       "      <td>29.0</td>\n",
       "    </tr>\n",
       "    <tr>\n",
       "      <th>2207325</th>\n",
       "      <td>2.0</td>\n",
       "      <td>0.537</td>\n",
       "      <td>793</td>\n",
       "      <td>54</td>\n",
       "      <td>7</td>\n",
       "      <td>79.0</td>\n",
       "      <td>79.0</td>\n",
       "      <td>47.0</td>\n",
       "      <td>28.63</td>\n",
       "      <td>7.0</td>\n",
       "      <td>...</td>\n",
       "      <td>False</td>\n",
       "      <td>False</td>\n",
       "      <td>False</td>\n",
       "      <td>False</td>\n",
       "      <td>False</td>\n",
       "      <td>False</td>\n",
       "      <td>False</td>\n",
       "      <td>False</td>\n",
       "      <td>2</td>\n",
       "      <td>29.0</td>\n",
       "    </tr>\n",
       "  </tbody>\n",
       "</table>\n",
       "<p>2207326 rows × 29 columns</p>\n",
       "</div>"
      ],
      "text/plain": [
       "         Severity  Distance(mi)  City  County  State  Temperature(F)  \\\n",
       "0             3.0         3.230     1       1      1            42.1   \n",
       "1             3.0         0.500     2       2      1            37.0   \n",
       "2             2.0         0.521     3       3      1            33.1   \n",
       "3             2.0         0.826     4       1      1            32.0   \n",
       "4             2.0         0.307     2       2      1            33.8   \n",
       "...           ...           ...   ...     ...    ...             ...   \n",
       "2207321       2.0         0.543  1577      53      7            86.0   \n",
       "2207322       2.0         0.338  1326     503      7            70.0   \n",
       "2207323       2.0         0.561   978     269      7            73.0   \n",
       "2207324       2.0         0.772  2275      51      7            71.0   \n",
       "2207325       2.0         0.537   793      54      7            79.0   \n",
       "\n",
       "         Wind_Chill(F)  Humidity(%)  Pressure(in)  Visibility(mi)  ...  \\\n",
       "0                 36.1         58.0         29.76            10.0  ...   \n",
       "1                 29.8         93.0         29.69            10.0  ...   \n",
       "2                 30.0         92.0         29.63             0.5  ...   \n",
       "3                 28.7        100.0         29.59             0.5  ...   \n",
       "4                 29.6        100.0         29.66             3.0  ...   \n",
       "...                ...          ...           ...             ...  ...   \n",
       "2207321           86.0         40.0         28.92            10.0  ...   \n",
       "2207322           70.0         73.0         29.39            10.0  ...   \n",
       "2207323           73.0         64.0         29.74            10.0  ...   \n",
       "2207324           71.0         81.0         29.62            10.0  ...   \n",
       "2207325           79.0         47.0         28.63             7.0  ...   \n",
       "\n",
       "         No_Exit  Railway  Roundabout  Station   Stop  Traffic_Calming  \\\n",
       "0          False    False       False    False  False            False   \n",
       "1          False    False       False    False  False            False   \n",
       "2          False    False       False    False  False            False   \n",
       "3          False    False       False    False  False            False   \n",
       "4          False    False       False    False  False            False   \n",
       "...          ...      ...         ...      ...    ...              ...   \n",
       "2207321    False    False       False    False  False            False   \n",
       "2207322    False    False       False    False  False            False   \n",
       "2207323    False    False       False    False  False            False   \n",
       "2207324    False    False       False    False  False            False   \n",
       "2207325    False    False       False    False  False            False   \n",
       "\n",
       "         Traffic_Signal  Turning_Loop  Sunrise_Sunset  Time_Duration(min)  \n",
       "0                 False         False               1               360.0  \n",
       "1                 False         False               2               360.0  \n",
       "2                 False         False               2               360.0  \n",
       "3                 False         False               2               360.0  \n",
       "4                 False         False               2               360.0  \n",
       "...                 ...           ...             ...                 ...  \n",
       "2207321           False         False               2                29.0  \n",
       "2207322           False         False               2                27.0  \n",
       "2207323           False         False               2                28.0  \n",
       "2207324           False         False               2                29.0  \n",
       "2207325           False         False               2                29.0  \n",
       "\n",
       "[2207326 rows x 29 columns]"
      ]
     },
     "execution_count": 3,
     "metadata": {},
     "output_type": "execute_result"
    }
   ],
   "source": [
    "datasets"
   ]
  },
  {
   "cell_type": "code",
   "execution_count": 5,
   "metadata": {
    "id": "LRNboFRGP7c6",
    "scrolled": true
   },
   "outputs": [],
   "source": [
    "# set X and y\n",
    "y = datasets['Distance(mi)']\n",
    "# X = datasets[['City','County','State','Wind_Speed(mph)','Junction','Time_Duration(min)']]\n",
    "X = datasets.drop(['Distance(mi)','Severity'], axis=1)\n",
    "X = np.asarray(X).astype('float32')\n",
    "y = np.asarray(y).astype('float32')\n",
    "\n",
    "y= y.reshape(-1, 1)\n"
   ]
  },
  {
   "cell_type": "code",
   "execution_count": 6,
   "metadata": {},
   "outputs": [],
   "source": [
    "PredictorScaler=StandardScaler()\n",
    "TargetVarScaler=StandardScaler()\n",
    "# Storing the fit object for later reference\n",
    "PredictorScalerFit=PredictorScaler.fit(X)\n",
    "TargetVarScalerFit=TargetVarScaler.fit(y)\n",
    "\n",
    "# Generating the standardized values of X and y\n",
    "X=PredictorScalerFit.transform(X)\n",
    "y=TargetVarScalerFit.transform(y)"
   ]
  },
  {
   "cell_type": "code",
   "execution_count": 26,
   "metadata": {},
   "outputs": [
    {
     "name": "stdout",
     "output_type": "stream",
     "text": [
      "[[0.02081373]\n",
      " [0.00322194]\n",
      " [0.00335726]\n",
      " ...\n",
      " [0.00361502]\n",
      " [0.00497468]\n",
      " [0.00346036]]\n"
     ]
    }
   ],
   "source": [
    "print(y)"
   ]
  },
  {
   "cell_type": "code",
   "execution_count": null,
   "metadata": {
    "id": "tROvQwnrS_hE"
   },
   "outputs": [],
   "source": [
    "# from sklearn.preprocessing import LabelEncoder\n",
    "# from keras.utils import np_utils\n",
    "\n",
    "# # encode class values as integers\n",
    "# encoder = LabelEncoder()\n",
    "# encoder.fit(y)\n",
    "# encoded_Y = encoder.transform(y)\n",
    "# # convert integers to dummy variables (i.e. one hot encoded)\n",
    "# dummy_y = np_utils.to_categorical(encoded_Y)"
   ]
  },
  {
   "cell_type": "code",
   "execution_count": 7,
   "metadata": {
    "colab": {
     "base_uri": "https://localhost:8080/"
    },
    "id": "l4vhheVQPt_Q",
    "outputId": "2edf2992-7da3-4cea-d209-e47a6cdd44df"
   },
   "outputs": [],
   "source": [
    "# Split the data into training and testing set\n",
    "from sklearn.model_selection import train_test_split\n",
    "X_train, X_test, y_train, y_test = train_test_split(X, y, test_size=0.3, random_state=42)"
   ]
  },
  {
   "cell_type": "code",
   "execution_count": 28,
   "metadata": {},
   "outputs": [],
   "source": [
    "# # reshape input to be [samples, time steps, features]\n",
    "# X_train = np.reshape(X_train, (X_train.shape[0], 1, X_train.shape[1]))\n",
    "# X_test = np.reshape(X-test, (X_test.shape[0], 1, X_test.shape[1]))"
   ]
  },
  {
   "cell_type": "code",
   "execution_count": 29,
   "metadata": {
    "id": "6ZqDi90n25ST"
   },
   "outputs": [],
   "source": [
    "# model = Sequential()\n",
    "# model.add(Dense(12, input_shape=(6,), activation='relu'))\n",
    "# model.add(Dense(8, activation='relu'))\n",
    "# model.add(Dense(1, activation='sigmoid'))\n",
    "\n",
    "# model = Sequential()\n",
    "# model.add(LSTM(50, input_shape=(27,1), activation='relu'))\n",
    "# # model.add(LSTM(100))\n",
    "\n",
    "# model.add(Dense(1))\n",
    "# Defining the Second layer of the model\n",
    "# after the first layer we don't have to specify input_dim as keras configure it automatically\n",
    "# model.add(Dense(units=5, kernel_initializer='normal', activation='tanh'))\n",
    "\n",
    "# The output neuron is a single fully connected node \n",
    "# Since we will be predicting a single number\n",
    "# model.add(Dense(1, kernel_initializer = 'normal'))"
   ]
  },
  {
   "cell_type": "code",
   "execution_count": 10,
   "metadata": {},
   "outputs": [],
   "source": [
    "model = Sequential([\n",
    "    layers.Dense(32, activation='relu'),\n",
    "    layers.Dense(64, activation='relu'),\n",
    "    layers.Dense(1)\n",
    "])"
   ]
  },
  {
   "cell_type": "code",
   "execution_count": 26,
   "metadata": {
    "id": "kdFEzKiR3CtJ"
   },
   "outputs": [],
   "source": [
    "# Compiling the model\n",
    "# model.compile(loss='mse', optimizer='adam', metrics=['accuracy'])\n",
    "\n",
    "model.compile(optimizer=\"RMSProp\",\n",
    "              loss=\"mean_squared_error\", metrics=['accuracy'])"
   ]
  },
  {
   "cell_type": "code",
   "execution_count": 27,
   "metadata": {
    "colab": {
     "base_uri": "https://localhost:8080/",
     "height": 363
    },
    "id": "NJ0EdLnN3ENe",
    "outputId": "d64414be-d48a-4b82-bd98-d4bce4eec39a"
   },
   "outputs": [
    {
     "name": "stdout",
     "output_type": "stream",
     "text": [
      "Epoch 1/10\n",
      "48286/48286 [==============================] - 44s 896us/step - loss: 1.0470 - accuracy: 0.0000e+00 - val_loss: 1.0827 - val_accuracy: 0.0000e+00\n",
      "Epoch 2/10\n",
      "48286/48286 [==============================] - 44s 904us/step - loss: 1.0499 - accuracy: 0.0000e+00 - val_loss: 1.1588 - val_accuracy: 0.0000e+00\n",
      "Epoch 3/10\n",
      "48286/48286 [==============================] - 43s 894us/step - loss: 1.0750 - accuracy: 0.0000e+00 - val_loss: 0.9566 - val_accuracy: 0.0000e+00\n",
      "Epoch 4/10\n",
      "48286/48286 [==============================] - 43s 891us/step - loss: 1.1466 - accuracy: 0.0000e+00 - val_loss: 0.9973 - val_accuracy: 0.0000e+00\n",
      "Epoch 5/10\n",
      "48286/48286 [==============================] - 46s 944us/step - loss: 1.1237 - accuracy: 0.0000e+00 - val_loss: 0.9601 - val_accuracy: 0.0000e+00\n",
      "Epoch 6/10\n",
      "48286/48286 [==============================] - 44s 907us/step - loss: 1.1419 - accuracy: 0.0000e+00 - val_loss: 1.4749 - val_accuracy: 0.0000e+00\n",
      "Epoch 7/10\n",
      "48286/48286 [==============================] - 44s 911us/step - loss: 1.1955 - accuracy: 0.0000e+00 - val_loss: 1.0029 - val_accuracy: 0.0000e+00\n",
      "Epoch 8/10\n",
      "48286/48286 [==============================] - 44s 913us/step - loss: 1.1971 - accuracy: 0.0000e+00 - val_loss: 1.1175 - val_accuracy: 0.0000e+00\n",
      "Epoch 9/10\n",
      "48286/48286 [==============================] - 45s 927us/step - loss: 1.2331 - accuracy: 0.0000e+00 - val_loss: 1.7068 - val_accuracy: 0.0000e+00\n",
      "Epoch 10/10\n",
      "48286/48286 [==============================] - 44s 903us/step - loss: 1.1963 - accuracy: 0.0000e+00 - val_loss: 1.0852 - val_accuracy: 0.0000e+00\n"
     ]
    }
   ],
   "source": [
    "# Fitting the ANN to the Training set\n",
    "history = model.fit(epochs = 10, x=X_train, y=y_train , validation_data=(X_test, y_test))\n",
    "\n",
    "# estimator = KerasRegressor(build_fn=model, epochs=100, batch_size=5, verbose=0)"
   ]
  },
  {
   "cell_type": "code",
   "execution_count": 17,
   "metadata": {},
   "outputs": [
    {
     "data": {
      "image/png": "[encoded data removed]",
      "text/plain": [
       "<Figure size 432x288 with 1 Axes>"
      ]
     },
     "metadata": {
      "needs_background": "light"
     },
     "output_type": "display_data"
    }
   ],
   "source": [
    "# Function to plot loss\n",
    "def plot_loss(history):\n",
    "    plt.plot(history.history['loss'], label='loss')\n",
    "    plt.plot(history.history['val_loss'], label='val_loss')\n",
    "    plt.ylim([0,10])\n",
    "    plt.xlabel('Epoch')\n",
    "    plt.ylabel('Error (Loss)')\n",
    "    plt.legend()\n",
    "    plt.grid(True)\n",
    "########################################################\n",
    "plot_loss(history)"
   ]
  },
  {
   "cell_type": "code",
   "execution_count": 19,
   "metadata": {
    "colab": {
     "base_uri": "https://localhost:8080/"
    },
    "id": "tDL1GDWs3HCJ",
    "outputId": "5f1c4205-c461-4116-d8a9-e9e21eb2ad41"
   },
   "outputs": [
    {
     "name": "stdout",
     "output_type": "stream",
     "text": [
      "20694/20694 [==============================] - 11s 518us/step - loss: 0.9812\n"
     ]
    },
    {
     "data": {
      "text/plain": [
       "0.981248140335083"
      ]
     },
     "execution_count": 19,
     "metadata": {},
     "output_type": "execute_result"
    }
   ],
   "source": [
    "# Model evaluation on testing dataset\n",
    "model.evaluate(X_test, y_test)"
   ]
  },
  {
   "cell_type": "code",
   "execution_count": 25,
   "metadata": {},
   "outputs": [
    {
     "name": "stdout",
     "output_type": "stream",
     "text": [
      "20694/20694 [==============================] - 9s 445us/step\n",
      "[[-0.5339856 ]\n",
      " [-0.5294614 ]\n",
      " [ 0.05937243]\n",
      " ...\n",
      " [ 0.11679316]\n",
      " [ 0.06680393]\n",
      " [ 0.54473734]]\n"
     ]
    }
   ],
   "source": [
    "results = model.predict(X_test,verbose =1)\n",
    "########################################################\n",
    "print(results)"
   ]
  },
  {
   "cell_type": "code",
   "execution_count": 22,
   "metadata": {},
   "outputs": [
    {
     "name": "stdout",
     "output_type": "stream",
     "text": [
      "[[-0.10706351]\n",
      " [-0.1002529 ]\n",
      " [ 0.7861613 ]\n",
      " ...\n",
      " [ 0.87260085]\n",
      " [ 0.7973485 ]\n",
      " [ 1.5168163 ]]\n"
     ]
    }
   ],
   "source": [
    "# We can decode using the scikit-learn object to get the result\n",
    "decoded_result = TargetVarScaler.inverse_transform(results.reshape(-1,1))\n",
    "print(decoded_result)"
   ]
  },
  {
   "cell_type": "code",
   "execution_count": null,
   "metadata": {},
   "outputs": [],
   "source": []
  }
 ],
 "metadata": {
  "colab": {
   "name": "NeuralNetwork_Testing(Distance).ipynb",
   "provenance": []
  },
  "kernelspec": {
   "display_name": "Python 3 (ipykernel)",
   "language": "python",
   "name": "python3"
  },
  "language_info": {
   "codemirror_mode": {
    "name": "ipython",
    "version": 3
   },
   "file_extension": ".py",
   "mimetype": "text/x-python",
   "name": "python",
   "nbconvert_exporter": "python",
   "pygments_lexer": "ipython3",
   "version": "3.9.0"
  }
 },
 "nbformat": 4,
 "nbformat_minor": 1
}
